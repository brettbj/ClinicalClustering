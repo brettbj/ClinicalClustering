{
 "cells": [
  {
   "cell_type": "code",
   "execution_count": null,
   "metadata": {
    "collapsed": true
   },
   "outputs": [],
   "source": [
    "import pandas as pd\n",
    "from pathlib import Path\n",
    "import numpy as np\n",
    "\n",
    "def get_data(path):\n",
    "    ''' Returns dataframe with columns: 'path', 'word'.'''\n",
    "    datadir = Path(path)\n",
    "    files = [(str(f), f.parts[-1]) for f in datadir.glob('*.csv') if f]\n",
    "    df = pd.DataFrame(files, columns=['path', 'word'])\n",
    "    \n",
    "    return df\n",
    "\n",
    "data_df = get_data('../../outputs/encoded_dicts/')\n",
    "print(data_df)\n",
    "\n",
    "encode_df = pd.DataFrame()\n",
    "for i, row in data_df.iterrows():\n",
    "    e = pd.read_csv(row['path'], converters={\"gd_hidden\": lambda x: x.strip(\"[]\").split()})\n",
    "    encode_df = pd.concat([encode_df, e])\n",
    "print(encode_df.shape)\n",
    "print(encode_df.columns)"
   ]
  },
  {
   "cell_type": "code",
   "execution_count": null,
   "metadata": {
    "collapsed": true
   },
   "outputs": [],
   "source": [
    "print(encode_df.dtypes)"
   ]
  },
  {
   "cell_type": "code",
   "execution_count": null,
   "metadata": {
    "collapsed": true
   },
   "outputs": [],
   "source": [
    "encode_df['gd_hidden'] = encode_df['gd_hidden']\n",
    "print(encode_df['gd_hidden'].head())"
   ]
  },
  {
   "cell_type": "code",
   "execution_count": null,
   "metadata": {
    "collapsed": true,
    "scrolled": false
   },
   "outputs": [],
   "source": [
    "for memberNum in encode_df['memberNum'].unique():\n",
    "    member = encode_df[encode_df['memberNum'] == memberNum]\n",
    "    last_row = None\n",
    "    hidden_diff = []\n",
    "    for i, row in member.iterrows():\n",
    "        if last_row is None:\n",
    "            last_row = row\n",
    "        else:\n",
    "            time_diff = (row['y_time'] - last_row['y_time'])\n",
    "            if row['y_time'] - last_row['y_time'] > 0:\n",
    "                hidden_diff.append((np.asarray(row['gd_hidden']).astype(float) - \n",
    "                                    np.asarray(last_row['gd_hidden']).astype(float)) / time_diff)\n",
    "print(np.asarray(hidden_diff).sum(axis=0)/len(hidden_diff))"
   ]
  }
 ],
 "metadata": {
  "kernelspec": {
   "display_name": "py27",
   "language": "python",
   "name": "py27"
  },
  "language_info": {
   "codemirror_mode": {
    "name": "ipython",
    "version": 2
   },
   "file_extension": ".py",
   "mimetype": "text/x-python",
   "name": "python",
   "nbconvert_exporter": "python",
   "pygments_lexer": "ipython2",
   "version": "2.7.15"
  }
 },
 "nbformat": 4,
 "nbformat_minor": 2
}
