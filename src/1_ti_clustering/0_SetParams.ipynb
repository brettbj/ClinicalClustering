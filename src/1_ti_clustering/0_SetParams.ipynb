{
 "cells": [
  {
   "cell_type": "code",
   "execution_count": 2,
   "metadata": {
    "collapsed": true
   },
   "outputs": [],
   "source": [
    "import json\n",
    "\n",
    "user = 'bkb12'\n",
    "table_prefix = 'test'\n",
    "diseases = {'Parkinsons': '332.0', 'EssentialTremor': '333.1'}\n",
    "# , 'Alzheimers': '331.0',\n",
    "#             'SecondaryParkinsonism': '332.1', 'ALS': '335.20'}\n",
    "per_disease_case_limit = 1000\n",
    "control_limit = len(diseases) * 1000\n",
    "enrollment_to_outcome = 365\n",
    "pre_period = 365\n",
    "post_period = 730\n",
    "\n",
    "save_list = {'user': user, 'table_prefix':table_prefix, 'diseases':diseases, \n",
    "             'case_limit':per_disease_case_limit, 'control_limit':control_limit,\n",
    "             'enrollment': enrollment_to_outcome, 'pre_period': 365, 'post_period':730}\n",
    "\n",
    "with open('../params.json', 'w') as outfile:\n",
    "    json.dump(save_list, outfile)"
   ]
  }
 ],
 "metadata": {
  "kernelspec": {
   "display_name": "py27",
   "language": "python",
   "name": "py27"
  },
  "language_info": {
   "codemirror_mode": {
    "name": "ipython",
    "version": 2
   },
   "file_extension": ".py",
   "mimetype": "text/x-python",
   "name": "python",
   "nbconvert_exporter": "python",
   "pygments_lexer": "ipython2",
   "version": "2.7.15"
  }
 },
 "nbformat": 4,
 "nbformat_minor": 2
}
