{
 "cells": [
  {
   "cell_type": "code",
   "execution_count": 1,
   "metadata": {},
   "outputs": [
    {
     "name": "stdout",
     "output_type": "stream",
     "text": [
      "Parkinsons_EssentialTremor\n"
     ]
    }
   ],
   "source": [
    "from sklearn.neighbors import NearestNeighbors\n",
    "import pandas as pd\n",
    "import json\n",
    "\n",
    "%matplotlib inline\n",
    "\n",
    "table_prefix = 'test'\n",
    "limit = 10000\n",
    "forward_days = 365\n",
    "\n",
    "with open ('../params.json') as f:\n",
    "    params = json.load(f)\n",
    "    \n",
    "table_prefix = params['table_prefix']\n",
    "diseases = params['diseases']\n",
    "case_limit = params['case_limit']\n",
    "control_limit = params['control_limit']\n",
    "min_enrollment = params['enrollment']\n",
    "user = params['user']\n",
    "num_icds = 200\n",
    "\n",
    "chunk = True\n",
    "\n",
    "\n",
    "name = '' \n",
    "for key, val in diseases.items():\n",
    "    name += key + '_'\n",
    "print(name[:-1])"
   ]
  },
  {
   "cell_type": "code",
   "execution_count": 2,
   "metadata": {},
   "outputs": [
    {
     "name": "stdout",
     "output_type": "stream",
     "text": [
      "30\n",
      "90\n",
      "180\n",
      "365\n"
     ]
    }
   ],
   "source": [
    "df_dict = {}\n",
    "nn_dict = {}\n",
    "neighbors = {}\n",
    "for i in [30, 90, 180, 365]:\n",
    "    print(i)\n",
    "    df_dict[i] = pd.read_csv('/home/bkb12/data/clustering/' + \n",
    "                             name[:-1] + str(i) + '.csv.gz', compression='gzip')\n",
    "    df_dict[i].drop(['MemberNum'], inplace=True, axis=1)\n",
    "#     nn_dict[i] = NearestNeighbors(n_neighbors=10).fit(df_dict[i])\n",
    "#     _, neighbors[i] = nn_dict[i].kneighbors(df_dict[i])"
   ]
  },
  {
   "cell_type": "markdown",
   "metadata": {},
   "source": [
    "# Let's first evaluate logistic regression "
   ]
  },
  {
   "cell_type": "code",
   "execution_count": 3,
   "metadata": {
    "scrolled": false
   },
   "outputs": [
    {
     "name": "stdout",
     "output_type": "stream",
     "text": [
      "[0 1]\n",
      "0.714132574876872\n",
      "[0.70606965 0.66267413 0.75643035 0.64222637 0.727225   0.73165\n",
      " 0.70937186 0.75217337 0.6961809  0.75732412]\n",
      "[0 1]\n",
      "0.728181054963874\n",
      "[0.71606965 0.68528607 0.7516791  0.68190299 0.754925   0.7749\n",
      " 0.72692211 0.73893216 0.70623116 0.74496231]\n",
      "[0 1]\n",
      "0.7414851957861447\n",
      "[0.73475124 0.69863184 0.75597015 0.68835821 0.7530125  0.771025\n",
      " 0.75140704 0.75802764 0.74748744 0.7561809 ]\n",
      "[0 1]\n",
      "0.752842627878197\n",
      "[0.73539801 0.70032338 0.76875622 0.71847015 0.7566     0.763175\n",
      " 0.76771357 0.78776382 0.7440201  0.78620603]\n"
     ]
    }
   ],
   "source": [
    "from sklearn.linear_model import LogisticRegression\n",
    "from sklearn.model_selection import train_test_split\n",
    "from sklearn import metrics\n",
    "from sklearn.model_selection import cross_val_score\n",
    "import numpy as np\n",
    "# from sklearn.model_selection import StratifiedKFold\n",
    "\n",
    "scores = {}\n",
    "for i in [30, 90, 180, 365]:\n",
    "    X = df_dict[i].values[:, :-1]\n",
    "    y = (df_dict[i].astype(int)-332).values[:, -1]\n",
    "    print(np.unique(y))\n",
    "\n",
    "    X_train, X_test, y_train, y_test = train_test_split(X, y, test_size=0.2, random_state=0)\n",
    "    clf = LogisticRegression(C=0.1, penalty='l2', tol=0.01).fit(X_train, y_train)\n",
    "    scores[i] = cross_val_score(clf, X_test, y_test, scoring='roc_auc', cv=10, n_jobs=4)\n",
    "    print(sum(scores[i])/len(scores[i]))\n",
    "    print(scores[i])"
   ]
  },
  {
   "cell_type": "code",
   "execution_count": 29,
   "metadata": {},
   "outputs": [
    {
     "data": {
      "image/png": "[encoded data removed]",
      "text/plain": [
       "<Figure size 864x576 with 1 Axes>"
      ]
     },
     "metadata": {},
     "output_type": "display_data"
    }
   ],
   "source": [
    "import seaborn as sns\n",
    "import matplotlib.pyplot as plt\n",
    "\n",
    "plt.figure(figsize=(12, 8))\n",
    "scores_df = pd.DataFrame.from_dict(scores)\n",
    "ax = sns.boxplot(data=scores_df, color='maroon')\n",
    "ax.set_ylim([0.5, 1])\n",
    "ax.set_yticks([0.5, 0.6, 0.7, 0.8, 0.9, 1])\n",
    "plt.show()"
   ]
  },
  {
   "cell_type": "code",
   "execution_count": 6,
   "metadata": {
    "collapsed": true
   },
   "outputs": [],
   "source": [
    "for key in df_dict.keys():\n",
    "    df_dict[key].drop('label', axis=1, inplace=True)"
   ]
  },
  {
   "cell_type": "markdown",
   "metadata": {},
   "source": [
    "# Now Compare Comorbidity Matrices"
   ]
  },
  {
   "cell_type": "code",
   "execution_count": 7,
   "metadata": {},
   "outputs": [
    {
     "name": "stdout",
     "output_type": "stream",
     "text": [
      "30\n",
      "90\n",
      "180\n",
      "365\n"
     ]
    }
   ],
   "source": [
    "from sklearn.metrics.pairwise import euclidean_distances\n",
    "dist30 = euclidean_distances(df_dict[30], df_dict[30])\n",
    "print('30')\n",
    "dist90 = euclidean_distances(df_dict[90], df_dict[90])\n",
    "print('90')\n",
    "dist180 = euclidean_distances(df_dict[180], df_dict[180])\n",
    "print('180')\n",
    "dist365 = euclidean_distances(df_dict[365], df_dict[365])\n",
    "print('365')"
   ]
  },
  {
   "cell_type": "code",
   "execution_count": 8,
   "metadata": {
    "scrolled": true
   },
   "outputs": [
    {
     "name": "stdout",
     "output_type": "stream",
     "text": [
      "(<type 'numpy.ndarray'>, (20000, 20000))\n",
      "30\n",
      "90\n",
      "180\n",
      "365\n"
     ]
    }
   ],
   "source": [
    "import numpy as np\n",
    "print(type(dist30), dist30.shape)\n",
    "N = 101 # 11 because same will always be smallest\n",
    "neighbors30 = np.argsort(-dist30, axis=0)[-1:-1-N:-1]\n",
    "print('30')\n",
    "neighbors90 = np.argsort(-dist90, axis=0)[-1:-1-N:-1]\n",
    "print('90')\n",
    "neighbors180 = np.argsort(-dist180, axis=0)[-1:-1-N:-1]\n",
    "print('180')\n",
    "neighbors365 = np.argsort(-dist365, axis=0)[-1:-1-N:-1]\n",
    "print('365')"
   ]
  },
  {
   "cell_type": "code",
   "execution_count": 9,
   "metadata": {},
   "outputs": [
    {
     "name": "stdout",
     "output_type": "stream",
     "text": [
      "((101, 20000), (20000,))\n"
     ]
    }
   ],
   "source": [
    "print(neighbors30.shape, neighbors30[0].shape)"
   ]
  },
  {
   "cell_type": "code",
   "execution_count": 10,
   "metadata": {},
   "outputs": [
    {
     "name": "stdout",
     "output_type": "stream",
     "text": [
      "(2000000, 338580, 192688, 136509, 524287, 181112, 340981)\n"
     ]
    }
   ],
   "source": [
    "total_count = 0\n",
    "c30_90 = 0\n",
    "c30_180 = 0\n",
    "c30_365 = 0\n",
    "c90_180 = 0\n",
    "c90_365 = 0\n",
    "c180_365 = 0\n",
    "\n",
    "for i in range(neighbors30.shape[1]): \n",
    "    for j in range(1, neighbors30.shape[0]):\n",
    "        total_count +=1\n",
    "        if neighbors30[j, i] in neighbors90[1:, i]:\n",
    "            c30_90 += 1\n",
    "        if neighbors30[j, i] in neighbors180[1:, i]:\n",
    "            c30_180 += 1\n",
    "        if neighbors30[j, i] in neighbors365[1:, i]:\n",
    "            c30_365 += 1\n",
    "        if neighbors90[j, i] in neighbors180[1:, i]:\n",
    "            c90_180 += 1\n",
    "        if neighbors90[j, i] in neighbors365[1:, i]:\n",
    "            c90_365 += 1\n",
    "        if neighbors180[j, i] in neighbors365[1:, i]:\n",
    "            c180_365 += 1    \n",
    "print(total_count, c30_90, c30_180, c30_365, c90_180, c90_365, c180_365)"
   ]
  },
  {
   "cell_type": "code",
   "execution_count": 11,
   "metadata": {},
   "outputs": [
    {
     "name": "stdout",
     "output_type": "stream",
     "text": [
      "(0.16929, 0.096344, 0.0682545, 0.2621435, 0.090556, 0.1704905)\n"
     ]
    }
   ],
   "source": [
    "from __future__ import division\n",
    "print(c30_90/total_count, c30_180/total_count, c30_365/total_count, c90_180/total_count, \n",
    "      c90_365/total_count, c180_365/total_count)"
   ]
  },
  {
   "cell_type": "code",
   "execution_count": 12,
   "metadata": {},
   "outputs": [
    {
     "name": "stdout",
     "output_type": "stream",
     "text": [
      "MultiIndex(levels=[[False, True], [False, True], [False, True], [False, True]],\n",
      "           labels=[[1, 1, 1, 0, 0, 0], [1, 0, 0, 1, 1, 0], [0, 1, 0, 1, 0, 1], [0, 0, 1, 0, 1, 1]],\n",
      "           names=[u'30day', u'90day', u'180day', u'365day'])\n"
     ]
    },
    {
     "name": "stderr",
     "output_type": "stream",
     "text": [
      "/home/anaconda/anaconda3/envs/py27/lib/python2.7/site-packages/upsetplot/plotting.py:24: PerformanceWarning: indexing past lexsort depth may impact performance.\n",
      "  totals.append(data.loc[idxslice].sum())\n",
      "/home/anaconda/anaconda3/envs/py27/lib/python2.7/site-packages/matplotlib/font_manager.py:1328: UserWarning: findfont: Font family [u'normal'] not found. Falling back to DejaVu Sans\n",
      "  (prop.get_family(), self.defaultFamily[fontext]))\n",
      "/home/anaconda/anaconda3/envs/py27/lib/python2.7/site-packages/matplotlib/cbook/deprecation.py:107: MatplotlibDeprecationWarning: Passing one of 'on', 'true', 'off', 'false' as a boolean is deprecated; use an actual boolean (True/False) instead.\n",
      "  warnings.warn(message, mplDeprecation, stacklevel=1)\n"
     ]
    },
    {
     "data": {
      "text/plain": [
       "{'intersections': <matplotlib.axes._subplots.AxesSubplot at 0x7fc8d4b154d0>,\n",
       " 'matrix': <matplotlib.axes._subplots.AxesSubplot at 0x7fc8d4b49cd0>,\n",
       " 'shading': <matplotlib.axes._subplots.AxesSubplot at 0x7fc8d4b8fe10>,\n",
       " 'totals': <matplotlib.axes._subplots.AxesSubplot at 0x7fc8d4a692d0>}"
      ]
     },
     "execution_count": 12,
     "metadata": {},
     "output_type": "execute_result"
    },
    {
     "data": {
      "image/png": "[encoded data removed]",
      "text/plain": [
       "<Figure size 1061x1200 with 4 Axes>"
      ]
     },
     "metadata": {},
     "output_type": "display_data"
    }
   ],
   "source": [
    "import matplotlib\n",
    "from upsetplot import plot\n",
    "\n",
    "font = {'family' : 'normal',\n",
    "        'weight' : 'bold',\n",
    "        'size'   : 22}\n",
    "\n",
    "# axes = {'edgecolor': 'white',\n",
    "#         'facecolor': 'black',\n",
    "#         'labelcolor': 'white'}\n",
    "\n",
    "matplotlib.rc('font', **font)\n",
    "# matplotlib.rc('axes', **axes)\n",
    "\n",
    "# import matplotlib as mpl\n",
    "# mpl.rcParams['lines.color'] = 'white'\n",
    "# mpl.rcParams['text.color'] = 'maroon'\n",
    "# mpl.rcParams['xtick.color'] = 'white'\n",
    "# mpl.rcParams['ytick.color'] = 'maroon'\n",
    "# mpl.rcParams['figure.facecolor'] = 'black'\n",
    "# mpl.rcParams['legend.facecolor'] = 'black'\n",
    "\n",
    "\n",
    "index = pd.MultiIndex(levels=[[False, True], [False, True], [False, True], [False, True]],\n",
    "                              labels=[[1, 1, 1, 0, 0, 0],[1, 0, 0, 1, 1, 0],\n",
    "                                      [0, 1, 0, 1, 0, 1], [0, 0, 1, 0, 1, 1]],\n",
    "                              names=['30day', '90day', '180day', '365day'])\n",
    "print(index)\n",
    "count_series = pd.Series([c30_90/total_count, c30_180/total_count, \n",
    "                          c30_365/total_count, c90_180/total_count, \n",
    "                          c90_365/total_count, c180_365/total_count],\n",
    "                         index=index)\n",
    "plot(count_series, sort_sets_by=None, sort_by='cardinality', element_size=120, facecolor='maroon')"
   ]
  }
 ],
 "metadata": {
  "kernelspec": {
   "display_name": "py27",
   "language": "python",
   "name": "py27"
  },
  "language_info": {
   "codemirror_mode": {
    "name": "ipython",
    "version": 2
   },
   "file_extension": ".py",
   "mimetype": "text/x-python",
   "name": "python",
   "nbconvert_exporter": "python",
   "pygments_lexer": "ipython2",
   "version": "2.7.15"
  }
 },
 "nbformat": 4,
 "nbformat_minor": 2
}
